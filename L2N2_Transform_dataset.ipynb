{
  "nbformat": 4,
  "nbformat_minor": 0,
  "metadata": {
    "colab": {
      "name": "L2N2 - Transform dataset.ipynb",
      "provenance": [],
      "authorship_tag": "ABX9TyNbD9K5GD53kY3crLaEcs4Z",
      "include_colab_link": true
    },
    "kernelspec": {
      "name": "python3",
      "display_name": "Python 3"
    }
  },
  "cells": [
    {
      "cell_type": "markdown",
      "metadata": {
        "id": "view-in-github",
        "colab_type": "text"
      },
      "source": [
        "<a href=\"https://colab.research.google.com/github/ykro/Android-tour-Peru-2013/blob/master/L2N2_Transform_dataset.ipynb\" target=\"_parent\"><img src=\"https://colab.research.google.com/assets/colab-badge.svg\" alt=\"Open In Colab\"/></a>"
      ]
    },
    {
      "cell_type": "code",
      "metadata": {
        "id": "pAXX1k1O3tfC"
      },
      "source": [
        "import tensorflow as tf\n",
        "\n",
        "from tensorflow.keras.datasets import cifar10\n",
        "from tensorflow.keras.models import Sequential\n",
        "from tensorflow.keras.layers import Dense, Flatten\n",
        "\n",
        "import numpy as np\n",
        "import PIL.Image as Image\n",
        "import matplotlib.pyplot as plt\n",
        "\n",
        "#dark theme\n",
        "plt.rc_context({'xtick.color':'w', 'ytick.color':'w', 'text.color':'w', 'axes.labelcolor':'w'})\n",
        "\n",
        "seed=1234\n",
        "np.random.seed(seed)\n",
        "tf.random.set_seed(seed)"
      ],
      "execution_count": 1,
      "outputs": []
    },
    {
      "cell_type": "code",
      "metadata": {
        "colab": {
          "base_uri": "https://localhost:8080/"
        },
        "id": "QgnlADMj4Ojy",
        "outputId": "a3fbe90e-2fb1-4b4f-acb2-b9a28372db92"
      },
      "source": [
        "(full_train_images, full_train_labels), (full_test_images, full_test_labels) = cifar10.load_data()"
      ],
      "execution_count": 2,
      "outputs": [
        {
          "output_type": "stream",
          "text": [
            "Downloading data from https://www.cs.toronto.edu/~kriz/cifar-10-python.tar.gz\n",
            "170500096/170498071 [==============================] - 34s 0us/step\n"
          ],
          "name": "stdout"
        }
      ]
    },
    {
      "cell_type": "code",
      "metadata": {
        "colab": {
          "base_uri": "https://localhost:8080/"
        },
        "id": "apcmY1Xn5as_",
        "outputId": "4b2865f7-acf6-4dc6-ba9d-79e2eea87f94"
      },
      "source": [
        "full_train_images.shape, full_train_labels.shape"
      ],
      "execution_count": 3,
      "outputs": [
        {
          "output_type": "execute_result",
          "data": {
            "text/plain": [
              "((50000, 32, 32, 3), (50000, 1))"
            ]
          },
          "metadata": {
            "tags": []
          },
          "execution_count": 3
        }
      ]
    },
    {
      "cell_type": "code",
      "metadata": {
        "colab": {
          "base_uri": "https://localhost:8080/"
        },
        "id": "2ER4qWIP5lsH",
        "outputId": "2b67f889-ad38-4874-f0ba-669e1daca999"
      },
      "source": [
        "full_test_images.shape"
      ],
      "execution_count": 4,
      "outputs": [
        {
          "output_type": "execute_result",
          "data": {
            "text/plain": [
              "(10000, 32, 32, 3)"
            ]
          },
          "metadata": {
            "tags": []
          },
          "execution_count": 4
        }
      ]
    },
    {
      "cell_type": "code",
      "metadata": {
        "id": "AOWCfoc75pv4"
      },
      "source": [
        "full_class_names = ['plane','car','bird','cat','deer','dog','frog','horse','ship','truck']"
      ],
      "execution_count": 5,
      "outputs": []
    },
    {
      "cell_type": "code",
      "metadata": {
        "colab": {
          "base_uri": "https://localhost:8080/",
          "height": 264
        },
        "id": "7WU5mdxs5uHj",
        "outputId": "30293bc1-2015-463a-b327-5f722cd35d8a"
      },
      "source": [
        "index = np.random.randint(full_train_images.shape[0])\n",
        "\n",
        "plt.imshow(full_train_images[index])\n",
        "plt.title(full_class_names[full_train_labels[index][0]])\n",
        "plt.axis('off')\n",
        "plt.show()"
      ],
      "execution_count": 6,
      "outputs": [
        {
          "output_type": "display_data",
          "data": {
            "image/png": "[encoded data removed]",
            "text/plain": [
              "<Figure size 432x288 with 1 Axes>"
            ]
          },
          "metadata": {
            "tags": [],
            "needs_background": "dark"
          }
        }
      ]
    },
    {
      "cell_type": "code",
      "metadata": {
        "id": "92UTRLyJ6-rH"
      },
      "source": [
        "class_names = ['plane', 'bird']"
      ],
      "execution_count": 7,
      "outputs": []
    },
    {
      "cell_type": "code",
      "metadata": {
        "id": "jTIK5WSV9iv4"
      },
      "source": [
        "def strip_dataset(full_images, full_labels):\n",
        "  label_map = {0: 0, 2: 1}\n",
        "  indeces = np.where((full_labels == 0) | \n",
        "                     (full_labels == 2train))[0]\n",
        "\n",
        "  images = full_images[indeces]\n",
        "  labels = np.expand_dims(np.fromiter(\n",
        "                            map(lambda x:label_map[x[0]], \n",
        "                                       full_labels[indeces]),\n",
        "                            dtype=np.int\n",
        "                            ), \n",
        "                          axis=1)\n",
        "  \n",
        "  return (images, labels)"
      ],
      "execution_count": 8,
      "outputs": []
    },
    {
      "cell_type": "code",
      "metadata": {
        "colab": {
          "base_uri": "https://localhost:8080/"
        },
        "id": "BsjeGFXk-bY5",
        "outputId": "8888c9f9-9b1d-411f-c60a-da3db7d59fb1"
      },
      "source": [
        "train_images, train_labels = strip_dataset(full_train_images, full_train_labels)\n",
        "test_images, test_labels = strip_dataset(full_test_images, full_test_labels)\n",
        "\n",
        "print(train_images.shape, train_labels.shape)\n",
        "print(test_images.shape, test_labels.shape)\n"
      ],
      "execution_count": 9,
      "outputs": [
        {
          "output_type": "stream",
          "text": [
            "(10000, 32, 32, 3) (10000, 1)\n",
            "(2000, 32, 32, 3) (2000, 1)\n"
          ],
          "name": "stdout"
        }
      ]
    },
    {
      "cell_type": "code",
      "metadata": {
        "colab": {
          "base_uri": "https://localhost:8080/",
          "height": 264
        },
        "id": "U9L6cA---0nt",
        "outputId": "3c159d89-f0ac-44ce-abfa-8fad10758969"
      },
      "source": [
        "index = np.random.randint(train_images.shape[0])\n",
        "\n",
        "plt.imshow(train_images[index])\n",
        "plt.title(class_names[train_labels[index][0]])\n",
        "plt.axis('off')\n",
        "plt.show()"
      ],
      "execution_count": 12,
      "outputs": [
        {
          "output_type": "display_data",
          "data": {
            "image/png": "[encoded data removed]",
            "text/plain": [
              "<Figure size 432x288 with 1 Axes>"
            ]
          },
          "metadata": {
            "tags": [],
            "needs_background": "dark"
          }
        }
      ]
    }
  ]
}